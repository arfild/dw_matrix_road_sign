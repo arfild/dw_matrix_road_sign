{
  "nbformat": 4,
  "nbformat_minor": 0,
  "metadata": {
    "colab": {
      "name": "Day4.ipynb",
      "provenance": [],
      "collapsed_sections": [],
      "mount_file_id": "10k7XI-zuVG_j29Pye9dFOE2Vad2iOLOl",
      "authorship_tag": "ABX9TyOlqxCPWnHgsCi0inYEo7lH",
      "include_colab_link": true
    },
    "kernelspec": {
      "name": "python3",
      "display_name": "Python 3"
    },
    "accelerator": "GPU"
  },
  "cells": [
    {
      "cell_type": "markdown",
      "metadata": {
        "id": "view-in-github",
        "colab_type": "text"
      },
      "source": [
        "<a href=\"https://colab.research.google.com/github/arfild/dw_matrix_road_sign/blob/master/Day4.ipynb\" target=\"_parent\"><img src=\"https://colab.research.google.com/assets/colab-badge.svg\" alt=\"Open In Colab\"/></a>"
      ]
    },
    {
      "cell_type": "code",
      "metadata": {
        "id": "uW-kZ9LPIz_2",
        "colab_type": "code",
        "colab": {
          "base_uri": "https://localhost:8080/",
          "height": 51
        },
        "outputId": "d9b71fcf-cb29-474b-aac5-58fbe6c151d4"
      },
      "source": [
        "import pandas as pd\n",
        "import numpy as np\n",
        "import tensorflow as tf\n",
        "from tensorflow.keras.models import Sequential\n",
        "from tensorflow.keras.layers import Conv2D, MaxPool2D, Dense, Flatten, Dropout\n",
        "from tensorflow.keras.utils import to_categorical\n",
        "\n",
        "import os\n",
        "import datetime\n",
        "\n",
        "%load_ext tensorboard\n",
        "\n",
        "import matplotlib.pyplot as plt\n",
        "from skimage import color, exposure"
      ],
      "execution_count": 23,
      "outputs": [
        {
          "output_type": "stream",
          "text": [
            "The tensorboard extension is already loaded. To reload it, use:\n",
            "  %reload_ext tensorboard\n"
          ],
          "name": "stdout"
        }
      ]
    },
    {
      "cell_type": "code",
      "metadata": {
        "id": "AX-zRko_JiSA",
        "colab_type": "code",
        "colab": {
          "base_uri": "https://localhost:8080/",
          "height": 34
        },
        "outputId": "301e550c-d2f8-492e-9075-c1984d30bd09"
      },
      "source": [
        "cd'/content/drive/My Drive/Colab Notebook/matrix/matrix_tree/dw_matrix_road_sign'"
      ],
      "execution_count": 4,
      "outputs": [
        {
          "output_type": "stream",
          "text": [
            "/content/drive/My Drive/Colab Notebook/matrix/matrix_tree/dw_matrix_road_sign\n"
          ],
          "name": "stdout"
        }
      ]
    },
    {
      "cell_type": "code",
      "metadata": {
        "id": "9JOCGROGJ1Pl",
        "colab_type": "code",
        "colab": {}
      },
      "source": [
        "train = pd.read_pickle('data/train.p')\n",
        "test  = pd.read_pickle('data/test.p')\n",
        "\n",
        "X_train, y_train = train['features'], train['labels']\n",
        "X_test,  y_test  = test['features'],  test['labels']"
      ],
      "execution_count": 0,
      "outputs": []
    },
    {
      "cell_type": "code",
      "metadata": {
        "id": "2BpnJG7nJ83n",
        "colab_type": "code",
        "colab": {
          "base_uri": "https://localhost:8080/",
          "height": 34
        },
        "outputId": "5e25727f-97a9-4cd8-8c06-7109ec7e1824"
      },
      "source": [
        "y_train"
      ],
      "execution_count": 6,
      "outputs": [
        {
          "output_type": "execute_result",
          "data": {
            "text/plain": [
              "array([41, 41, 41, ..., 25, 25, 25], dtype=uint8)"
            ]
          },
          "metadata": {
            "tags": []
          },
          "execution_count": 6
        }
      ]
    },
    {
      "cell_type": "code",
      "metadata": {
        "id": "F29MGAsdKKmJ",
        "colab_type": "code",
        "colab": {
          "base_uri": "https://localhost:8080/",
          "height": 34
        },
        "outputId": "2060790c-715e-4d07-931f-e119d0ac21b8"
      },
      "source": [
        "len(np.unique(y_train))\n"
      ],
      "execution_count": 7,
      "outputs": [
        {
          "output_type": "execute_result",
          "data": {
            "text/plain": [
              "43"
            ]
          },
          "metadata": {
            "tags": []
          },
          "execution_count": 7
        }
      ]
    },
    {
      "cell_type": "code",
      "metadata": {
        "id": "wBAKiT3gKU98",
        "colab_type": "code",
        "colab": {
          "base_uri": "https://localhost:8080/",
          "height": 34
        },
        "outputId": "849ad906-b474-48f1-becc-4c44b7079359"
      },
      "source": [
        "if y_train.ndim == 1: y_train = to_categorical(y_train) \n",
        "y_train.shape\n",
        "if y_test.ndim == 1: y_test = to_categorical(y_test)\n",
        "y_test.shape"
      ],
      "execution_count": 8,
      "outputs": [
        {
          "output_type": "execute_result",
          "data": {
            "text/plain": [
              "(4410, 43)"
            ]
          },
          "metadata": {
            "tags": []
          },
          "execution_count": 8
        }
      ]
    },
    {
      "cell_type": "code",
      "metadata": {
        "id": "11JkIKeRKlxC",
        "colab_type": "code",
        "colab": {
          "base_uri": "https://localhost:8080/",
          "height": 34
        },
        "outputId": "7d1d5470-8417-48f2-b896-6505ddd38725"
      },
      "source": [
        "input_shape = X_train.shape[1:] #pobieramy wymiar warttwy mamy (32px x 32px x 3 warstwy)\n",
        "num_classes = y_train.shape[1]  # pobieramy ilość klas\n",
        "\n",
        "input_shape, num_classes"
      ],
      "execution_count": 9,
      "outputs": [
        {
          "output_type": "execute_result",
          "data": {
            "text/plain": [
              "((32, 32, 3), 43)"
            ]
          },
          "metadata": {
            "tags": []
          },
          "execution_count": 9
        }
      ]
    },
    {
      "cell_type": "code",
      "metadata": {
        "id": "7kMQ17_0KtGh",
        "colab_type": "code",
        "colab": {
          "base_uri": "https://localhost:8080/",
          "height": 71
        },
        "outputId": "a9f3d8ff-246f-4f2e-c459-ca3bec98b923"
      },
      "source": [
        "model = Sequential([\n",
        "  Conv2D(filters=64, kernel_size=(3,3), activation='relu', input_shape=input_shape ),\n",
        "  Flatten(),\n",
        "  Dense(num_classes, activation='softmax')\n",
        "\n",
        "])\n",
        "\n",
        "#model.summary()\n",
        "model.compile(loss='categorical_crossentropy',optimizer='Adam' , metrics=['accuracy'])\n",
        "model.fit(X_train, y_train)"
      ],
      "execution_count": 12,
      "outputs": [
        {
          "output_type": "stream",
          "text": [
            "1088/1088 [==============================] - 4s 4ms/step - loss: 11.6486 - accuracy: 0.7541\n"
          ],
          "name": "stdout"
        },
        {
          "output_type": "execute_result",
          "data": {
            "text/plain": [
              "<tensorflow.python.keras.callbacks.History at 0x7f61e2115978>"
            ]
          },
          "metadata": {
            "tags": []
          },
          "execution_count": 12
        }
      ]
    },
    {
      "cell_type": "code",
      "metadata": {
        "id": "V42GOhV5KwXK",
        "colab_type": "code",
        "colab": {}
      },
      "source": [
        "def get_cnn_v1(input_shape, num_classes):\n",
        "  return Sequential([\n",
        "  \n",
        "  Conv2D(filters=64, kernel_size=(3,3), activation='relu', input_shape=input_shape ),\n",
        "  \n",
        "  Flatten(),\n",
        "  \n",
        "  Dense(num_classes, activation='softmax')\n",
        "  ])\n",
        "\n",
        "def train_model(model, X_train, y_train, params_fit={}):\n",
        "  model.compile(\n",
        "    loss='categorical_crossentropy', \n",
        "    optimizer='Adam', \n",
        "    metrics=['accuracy']\n",
        "  )\n",
        "\n",
        "\n",
        "  logdir = os.path.join(\"logs\", datetime.datetime.now().strftime(\"%Y%m%d-%H%M%S\"))\n",
        "  tensorboard_callback = tf.keras.callbacks.TensorBoard(logdir, histogram_freq=1)\n",
        "\n",
        "  model.fit(\n",
        "      X_train, \n",
        "      y_train,\n",
        "      batch_size = params_fit.get('batch_size', 128), \n",
        "      epochs = params_fit.get('epochs', 5),\n",
        "      verbose = params_fit.get('verbose', 1),\n",
        "      validation_data = params_fit.get('validation_data', (X_train, y_train)),\n",
        "      callbacks = [tensorboard_callback],\n",
        "      )\n",
        "  return model\n",
        "\n",
        "\n",
        "#get_cnn_v1(input_shape, num_classes).summary()"
      ],
      "execution_count": 0,
      "outputs": []
    },
    {
      "cell_type": "code",
      "metadata": {
        "id": "21VxSkSTOQBu",
        "colab_type": "code",
        "colab": {
          "base_uri": "https://localhost:8080/",
          "height": 207
        },
        "outputId": "67d69675-036e-4a4b-8dbd-2b1c107986b6"
      },
      "source": [
        "model = get_cnn_v1(input_shape, num_classes)\n",
        "model_trained = train_model(model, X_train, y_train)"
      ],
      "execution_count": 19,
      "outputs": [
        {
          "output_type": "stream",
          "text": [
            "Epoch 1/5\n",
            "272/272 [==============================] - 3s 11ms/step - loss: 28.6178 - accuracy: 0.7055 - val_loss: 0.2293 - val_accuracy: 0.9395\n",
            "Epoch 2/5\n",
            "272/272 [==============================] - 3s 10ms/step - loss: 0.2046 - accuracy: 0.9520 - val_loss: 0.1315 - val_accuracy: 0.9678\n",
            "Epoch 3/5\n",
            "272/272 [==============================] - 3s 10ms/step - loss: 0.1315 - accuracy: 0.9688 - val_loss: 0.0993 - val_accuracy: 0.9778\n",
            "Epoch 4/5\n",
            "272/272 [==============================] - 3s 10ms/step - loss: 0.1074 - accuracy: 0.9747 - val_loss: 0.0963 - val_accuracy: 0.9754\n",
            "Epoch 5/5\n",
            "272/272 [==============================] - 3s 10ms/step - loss: 0.0774 - accuracy: 0.9818 - val_loss: 0.0760 - val_accuracy: 0.9832\n"
          ],
          "name": "stdout"
        }
      ]
    },
    {
      "cell_type": "code",
      "metadata": {
        "id": "2VJZEK3ROjOl",
        "colab_type": "code",
        "colab": {
          "base_uri": "https://localhost:8080/",
          "height": 238
        },
        "outputId": "02ae3057-7c52-4d73-ebfc-8611b3d67acd"
      },
      "source": [
        "y_pred_prob = model_trained.predict(X_test)\n",
        "y_pred_prob"
      ],
      "execution_count": 20,
      "outputs": [
        {
          "output_type": "execute_result",
          "data": {
            "text/plain": [
              "array([[1.09878465e-05, 3.58095393e-04, 2.13575826e-04, ...,\n",
              "        3.86769926e-07, 7.99284899e-05, 3.69453744e-04],\n",
              "       [5.19847902e-07, 1.59685093e-04, 1.32146827e-03, ...,\n",
              "        2.39133788e-05, 1.09781195e-05, 3.36855010e-04],\n",
              "       [6.74387820e-06, 1.63456541e-04, 7.22225159e-05, ...,\n",
              "        6.00208580e-07, 6.81685196e-05, 3.20995081e-04],\n",
              "       ...,\n",
              "       [8.80194362e-03, 6.12343382e-03, 5.68935322e-03, ...,\n",
              "        2.96368962e-03, 3.64085101e-03, 3.63860489e-03],\n",
              "       [1.20393774e-02, 6.95206597e-03, 4.04651556e-03, ...,\n",
              "        8.20568949e-03, 5.16357692e-03, 1.17641664e-03],\n",
              "       [1.37573027e-03, 2.92246230e-03, 2.26065121e-03, ...,\n",
              "        6.53232855e-04, 1.86384970e-03, 4.59558709e-04]], dtype=float32)"
            ]
          },
          "metadata": {
            "tags": []
          },
          "execution_count": 20
        }
      ]
    },
    {
      "cell_type": "code",
      "metadata": {
        "id": "L7q8LERhQCY0",
        "colab_type": "code",
        "colab": {
          "base_uri": "https://localhost:8080/",
          "height": 204
        },
        "outputId": "e7ec440b-3a46-4073-c184-a009bcff313d"
      },
      "source": [
        "y_pred_prob[400]"
      ],
      "execution_count": 27,
      "outputs": [
        {
          "output_type": "execute_result",
          "data": {
            "text/plain": [
              "array([8.50441720e-05, 9.99510407e-01, 1.44962327e-08, 9.04158345e-11,\n",
              "       4.04443010e-04, 4.96697048e-08, 2.86480090e-10, 1.15816160e-15,\n",
              "       6.02229424e-18, 6.04571904e-09, 8.85037960e-15, 6.50811610e-21,\n",
              "       6.97017281e-25, 2.58105111e-08, 7.44956113e-21, 3.23151496e-19,\n",
              "       3.57550138e-19, 2.77709913e-37, 1.97348406e-15, 1.32864520e-29,\n",
              "       3.11983002e-21, 6.65323217e-21, 1.07104383e-28, 1.75295069e-23,\n",
              "       9.91334026e-18, 5.36328761e-19, 1.42948560e-13, 8.64792092e-33,\n",
              "       4.33551617e-16, 7.98580714e-15, 1.81524791e-27, 1.29541166e-17,\n",
              "       4.35822280e-21, 2.09526772e-27, 3.98679047e-30, 5.36424017e-15,\n",
              "       5.71936172e-22, 8.79204755e-34, 1.15898445e-21, 3.74093672e-27,\n",
              "       1.21488346e-21, 2.53280187e-25, 4.88928384e-23], dtype=float32)"
            ]
          },
          "metadata": {
            "tags": []
          },
          "execution_count": 27
        }
      ]
    },
    {
      "cell_type": "code",
      "metadata": {
        "id": "TrSoTjrPTuLh",
        "colab_type": "code",
        "colab": {
          "base_uri": "https://localhost:8080/",
          "height": 34
        },
        "outputId": "56aea84e-5640-44e0-b84a-63b6f8764eab"
      },
      "source": [
        "np.sum([8.50441720e-05, 9.99510407e-01, 1.44962327e-08, 9.04158345e-11,\n",
        "       4.04443010e-04, 4.96697048e-08, 2.86480090e-10, 1.15816160e-15,\n",
        "       6.02229424e-18, 6.04571904e-09, 8.85037960e-15, 6.50811610e-21,\n",
        "       6.97017281e-25, 2.58105111e-08, 7.44956113e-21, 3.23151496e-19,\n",
        "       3.57550138e-19, 2.77709913e-37, 1.97348406e-15, 1.32864520e-29,\n",
        "       3.11983002e-21, 6.65323217e-21, 1.07104383e-28, 1.75295069e-23,\n",
        "       9.91334026e-18, 5.36328761e-19, 1.42948560e-13, 8.64792092e-33,\n",
        "       4.33551617e-16, 7.98580714e-15, 1.81524791e-27, 1.29541166e-17,\n",
        "       4.35822280e-21, 2.09526772e-27, 3.98679047e-30, 5.36424017e-15,\n",
        "       5.71936172e-22, 8.79204755e-34, 1.15898445e-21, 3.74093672e-27,\n",
        "       1.21488346e-21, 2.53280187e-25, 4.88928384e-23])"
      ],
      "execution_count": 37,
      "outputs": [
        {
          "output_type": "execute_result",
          "data": {
            "text/plain": [
              "0.9999999905812323"
            ]
          },
          "metadata": {
            "tags": []
          },
          "execution_count": 37
        }
      ]
    },
    {
      "cell_type": "code",
      "metadata": {
        "id": "193LdtTlUEuS",
        "colab_type": "code",
        "colab": {
          "base_uri": "https://localhost:8080/",
          "height": 282
        },
        "outputId": "23e7ca20-a60b-4020-dea0-8a5decb8da59"
      },
      "source": [
        "plt.bar(range(43), y_pred_prob[400])"
      ],
      "execution_count": 39,
      "outputs": [
        {
          "output_type": "execute_result",
          "data": {
            "text/plain": [
              "<BarContainer object of 43 artists>"
            ]
          },
          "metadata": {
            "tags": []
          },
          "execution_count": 39
        },
        {
          "output_type": "display_data",
          "data": {
            "image/png": "[encoded data removed]",
            "text/plain": [
              "<Figure size 432x288 with 1 Axes>"
            ]
          },
          "metadata": {
            "tags": []
          }
        }
      ]
    },
    {
      "cell_type": "code",
      "metadata": {
        "id": "9QW6sxrdTblq",
        "colab_type": "code",
        "colab": {}
      },
      "source": [
        "df = pd.read_csv('data/signnames.csv')\n",
        "labels_dict = df.to_dict()['b']"
      ],
      "execution_count": 0,
      "outputs": []
    },
    {
      "cell_type": "code",
      "metadata": {
        "id": "uCnEPgQ0SluX",
        "colab_type": "code",
        "colab": {
          "base_uri": "https://localhost:8080/",
          "height": 34
        },
        "outputId": "3816827d-94ca-4c59-d6e1-74efcc6d2bd3"
      },
      "source": [
        "labels_dict[np.argmax(y_pred_prob[400] )]"
      ],
      "execution_count": 36,
      "outputs": [
        {
          "output_type": "execute_result",
          "data": {
            "text/plain": [
              "'Speed limit (30km/h)'"
            ]
          },
          "metadata": {
            "tags": []
          },
          "execution_count": 36
        }
      ]
    },
    {
      "cell_type": "code",
      "metadata": {
        "id": "8uQv6rc_QdSR",
        "colab_type": "code",
        "colab": {
          "base_uri": "https://localhost:8080/",
          "height": 283
        },
        "outputId": "f0bb9404-2c51-4512-abba-e80e59c1dc08"
      },
      "source": [
        "plt.imshow(X_test[400])"
      ],
      "execution_count": 26,
      "outputs": [
        {
          "output_type": "execute_result",
          "data": {
            "text/plain": [
              "<matplotlib.image.AxesImage at 0x7f619432b710>"
            ]
          },
          "metadata": {
            "tags": []
          },
          "execution_count": 26
        },
        {
          "output_type": "display_data",
          "data": {
            "image/png": "[encoded data removed]",
            "text/plain": [
              "<Figure size 432x288 with 1 Axes>"
            ]
          },
          "metadata": {
            "tags": []
          }
        }
      ]
    },
    {
      "cell_type": "code",
      "metadata": {
        "id": "J9C9CxdhRFig",
        "colab_type": "code",
        "colab": {
          "base_uri": "https://localhost:8080/",
          "height": 34
        },
        "outputId": "8a4fec53-b064-41f1-b080-1d6381f91fb5"
      },
      "source": [
        "ls data"
      ],
      "execution_count": 28,
      "outputs": [
        {
          "output_type": "stream",
          "text": [
            "signnames.csv  test.p  train.p\n"
          ],
          "name": "stdout"
        }
      ]
    },
    {
      "cell_type": "code",
      "metadata": {
        "id": "LSd0Q6eCRo7U",
        "colab_type": "code",
        "colab": {}
      },
      "source": [
        ""
      ],
      "execution_count": 0,
      "outputs": []
    },
    {
      "cell_type": "code",
      "metadata": {
        "id": "winRP15TR_Vg",
        "colab_type": "code",
        "colab": {}
      },
      "source": [
        ""
      ],
      "execution_count": 0,
      "outputs": []
    }
  ]
}